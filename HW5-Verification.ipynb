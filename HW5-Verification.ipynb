{
 "cells": [
  {
   "cell_type": "code",
   "execution_count": 8,
   "metadata": {},
   "outputs": [],
   "source": [
    "#Import libraries\n",
    "import numpy as np\n",
    "import matplotlib.pyplot as plt"
   ]
  },
  {
   "cell_type": "code",
   "execution_count": 9,
   "id": "5ccda9f7",
   "metadata": {},
   "outputs": [
    {
     "name": "stdout",
     "output_type": "stream",
     "text": [
      "p* = 0.6931471805599453\n",
      "x0 = 1, f(x0) = 1.1269280110429725, f(x0) - p* = 0.4337808304830272\n",
      "x1 = -0.8134302039235093, f(x1) = 0.9928690093583381, f(x1) - p* = 0.2997218287983928\n",
      "x2 = 0.4094023165833858, f(x2) = 0.7747107967452456, f(x2) - p* = 0.08156361618530028\n",
      "x3 = -0.04730491645561574, f(x3) = 0.6942656410735625, f(x3) - p* = 0.0011184605136171921\n",
      "x4 = 7.06028036445705e-05, f(x4) = 0.6931471830523231, f(x4) - p* = 2.492377859653061e-09\n",
      "x5 = -2.346996566277709e-13, f(x5) = 0.6931471805599453, f(x5) - p* = 0.0\n"
     ]
    }
   ],
   "source": [
    "#9.10(a) function\n",
    "def f1(x):\n",
    "    return np.log(np.exp(x) + np.exp(-1 * x))\n",
    "\n",
    "def h(x):\n",
    "    return -1 * ((np.exp(x) - np.exp(-1 * x)) *  (np.exp(x) + np.exp(-1 * x)) / 4)\n",
    "\n",
    "x = 1\n",
    "t = 1\n",
    "\n",
    "x_star = 0\n",
    "p_star = f1(x_star)\n",
    "print(f\"p* = {p_star}\")\n",
    "\n",
    "for i in range(6):\n",
    "    print(f\"x{i} = {x}, f(x{i}) = {f1(x)}, f(x{i}) - p* = {f1(x) - p_star}\")\n",
    "    x = x + (t * h(x))"
   ]
  },
  {
   "cell_type": "code",
   "execution_count": 10,
   "id": "115cc21c",
   "metadata": {},
   "outputs": [
    {
     "name": "stdout",
     "output_type": "stream",
     "text": [
      "p* = 0.6931471805599453\n",
      "x0 = 1.1, f(x0) = 1.205083319768696, f(x0) - p* = 0.5119361392087508\n",
      "x1 = -1.128552585267947, f(x1) = 1.2280838431064225, f(x1) - p* = 0.5349366625464772\n",
      "x2 = 1.2341311330391007, f(x2) = 1.3154640598055265, f(x2) - p* = 0.6223168792455812\n",
      "x3 = -1.6951659799228027, f(x3) = 1.7283081492091559, f(x3) - p* = 1.0351609686492105\n",
      "x4 = 5.715360100379736, f(x4) = 5.715370957107181, f(x4) - p* = 5.022223776547236\n",
      "x5 = -23021.35648572756, f(x5) = inf, f(x5) - p* = inf\n"
     ]
    },
    {
     "name": "stderr",
     "output_type": "stream",
     "text": [
      "/var/folders/_z/7xh85xcn7rd84tynktgvzyrr0000gn/T/ipykernel_42498/3276062217.py:3: RuntimeWarning: overflow encountered in exp\n",
      "  return np.log(np.exp(x) + np.exp(-1 * x))\n",
      "/var/folders/_z/7xh85xcn7rd84tynktgvzyrr0000gn/T/ipykernel_42498/3276062217.py:6: RuntimeWarning: overflow encountered in exp\n",
      "  return -1 * ((np.exp(x) - np.exp(-1 * x)) *  (np.exp(x) + np.exp(-1 * x)) / 4)\n"
     ]
    }
   ],
   "source": [
    "#9.10(a) function\n",
    "def f1(x):\n",
    "    return np.log(np.exp(x) + np.exp(-1 * x))\n",
    "\n",
    "def h(x):\n",
    "    return -1 * ((np.exp(x) - np.exp(-1 * x)) *  (np.exp(x) + np.exp(-1 * x)) / 4)\n",
    "\n",
    "x = 1.1\n",
    "t = 1\n",
    "\n",
    "x_star = 0\n",
    "p_star = f1(x_star)\n",
    "print(f\"p* = {p_star}\")\n",
    "\n",
    "for i in range(6):\n",
    "    print(f\"x{i} = {x}, f(x{i}) = {f1(x)}, f(x{i}) - p* = {f1(x) - p_star}\")\n",
    "    x = x + (t * h(x))"
   ]
  }
 ],
 "metadata": {
  "kernelspec": {
   "display_name": "base",
   "language": "python",
   "name": "python3"
  },
  "language_info": {
   "codemirror_mode": {
    "name": "ipython",
    "version": 3
   },
   "file_extension": ".py",
   "mimetype": "text/x-python",
   "name": "python",
   "nbconvert_exporter": "python",
   "pygments_lexer": "ipython3",
   "version": "3.11.5"
  }
 },
 "nbformat": 4,
 "nbformat_minor": 5
}
