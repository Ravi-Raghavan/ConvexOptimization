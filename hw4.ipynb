{
 "cells": [
  {
   "cell_type": "markdown",
   "metadata": {},
   "source": [
    "# Homework #4 - Ravi Raghavan"
   ]
  },
  {
   "cell_type": "code",
   "execution_count": 13,
   "metadata": {},
   "outputs": [],
   "source": [
    "import numpy as np"
   ]
  },
  {
   "cell_type": "markdown",
   "metadata": {},
   "source": [
    "## Vanilla Gradient Descent"
   ]
  },
  {
   "cell_type": "code",
   "execution_count": 14,
   "metadata": {},
   "outputs": [],
   "source": [
    "#Run Vanilla Gradient Descent Algorithm\n",
    "#f: function\n",
    "#gradient: function that computes gradient of f at particular point\n",
    "#x0: initial starting point\n",
    "#alpha: fixed step size\n",
    "#max_iter: maximum number of iterations to run\n",
    "#epislon: converge criterion for function value\n",
    "def vanilla_gradient_descent(f, gradient, x0: np.ndarray, alpha, max_iter, epsilon):\n",
    "    x = x0\n",
    "    fx = f(x)\n",
    "    \n",
    "    print(f\"Initial Function Value: {fx}\")\n",
    "    function_values = []\n",
    "    function_values.append(fx)\n",
    "    points = np.array([x])\n",
    "    \n",
    "    for iter in range(max_iter):\n",
    "        x = x - alpha * gradient(x)\n",
    "        points = np.append(points, x[np.newaxis, :, :], axis=0)\n",
    "        \n",
    "        print(f\"Updated Function Value: {f(x)}\")\n",
    "        \n",
    "        if np.abs(f(x) - fx) <= epsilon:\n",
    "            break\n",
    "        \n",
    "        fx = f(x)\n",
    "        function_values.append(fx)\n",
    "    \n",
    "    function_values = np.array(function_values)\n",
    "    return points, function_values"
   ]
  },
  {
   "cell_type": "markdown",
   "metadata": {},
   "source": [
    "## Exact Line Search"
   ]
  },
  {
   "cell_type": "code",
   "execution_count": 15,
   "metadata": {},
   "outputs": [],
   "source": [
    "def exact_line_search_gradient_descent(f, gradient, exact_line_search, x0: np.ndarray, max_iter, epsilon):\n",
    "    x = x0\n",
    "    fx = f(x)\n",
    "    \n",
    "    print(f\"Initial Function Value: {fx}\")\n",
    "    function_values = []\n",
    "    function_values.append(fx)\n",
    "    points = np.array([x])\n",
    "    \n",
    "    for iter in range(max_iter):\n",
    "        grad = gradient(x)\n",
    "        alpha = exact_line_search(x, -1 * grad)\n",
    "        x = x - alpha * gradient(x)\n",
    "        points = np.append(points, x[np.newaxis, :, :], axis=0)\n",
    "        \n",
    "        print(f\"Updated Function Value: {f(x)}\")\n",
    "        \n",
    "        if np.abs(f(x) - fx) <= epsilon:\n",
    "            break\n",
    "        \n",
    "        fx = f(x)\n",
    "        function_values.append(fx)\n",
    "    \n",
    "    function_values = np.array(function_values)\n",
    "    return points, function_values"
   ]
  },
  {
   "cell_type": "markdown",
   "metadata": {},
   "source": [
    "## Backtracking Line Search"
   ]
  },
  {
   "cell_type": "code",
   "execution_count": 16,
   "metadata": {},
   "outputs": [],
   "source": [
    "def backtracking_line_search_gradient_descent(f, gradient, backtracking_algorithm, x0: np.ndarray, max_iter, epsilon):\n",
    "    x = x0\n",
    "    fx = f(x)\n",
    "    \n",
    "    print(f\"Initial Function Value: {fx}\")\n",
    "    function_values = []\n",
    "    function_values.append(fx)\n",
    "    points = np.array([x])\n",
    "    \n",
    "    for iter in range(max_iter):\n",
    "        grad = gradient(x)\n",
    "        alpha = backtracking_algorithm(x, -1 * grad)\n",
    "        x = x - alpha * gradient(x)\n",
    "        points = np.append(points, x[np.newaxis, :, :], axis=0)\n",
    "        \n",
    "        print(f\"Updated Function Value: {f(x)}\")\n",
    "        \n",
    "        if np.abs(f(x) - fx) <= epsilon:\n",
    "            break\n",
    "        \n",
    "        fx = f(x)\n",
    "        function_values.append(fx)\n",
    "    \n",
    "    function_values = np.array(function_values)\n",
    "    return points, function_values"
   ]
  },
  {
   "cell_type": "markdown",
   "metadata": {},
   "source": [
    "## Quadratic Function"
   ]
  },
  {
   "cell_type": "markdown",
   "metadata": {},
   "source": [
    "$f_1(x) = \\frac{1}{2} (x_1^2 + \\gamma x_2^2) $\n",
    "\n",
    "$\\frac{\\partial{f}}{\\partial{x_1}} = x_1$\n",
    "\n",
    "$\\frac{\\partial{f}}{\\partial{x_2}} = \\gamma x_2$\n",
    "\n",
    "$\\nabla f_1(x) = \n",
    "\\begin{pmatrix}\n",
    "x_1 \\\\\n",
    "\\gamma x_2\n",
    "\\end{pmatrix}\n",
    "$\n",
    "\n",
    "\n",
    "\n",
    "Exact Line Search Derivation:\n",
    "\n",
    "$f_1(x + \\alpha \\Delta x) = \\frac{1}{2} (x_1 + \\alpha \\Delta x_1 - 1)^2 + \\frac{\\gamma}{2} (x_2 + \\alpha \\Delta x_2 - 1)^2$\n",
    "\n",
    "$\\frac{d}{d \\alpha} f_1(x + \\alpha \\Delta x) = \\Delta x_1 (x_1 + \\alpha \\Delta x_1 - 1) + \\gamma(x_2 + \\alpha \\Delta x_2 - 1)(\\Delta x_2)$\n",
    "\n",
    "Set this derivative to 0 and solve for $\\alpha$ \n",
    "\n",
    "$\\Delta x_1 (x_1 + \\alpha \\Delta x_1 - 1) + \\gamma(x_2 + \\alpha \\Delta x_2 - 1)(\\Delta x_2) = 0$\n",
    "\n",
    "$x_1 \\Delta x_1 + \\alpha (\\Delta x_1)^2 - \\Delta x_1 + \\gamma x_2 \\Delta x_2 + \\gamma \\alpha (\\Delta x_2)^2 - \\gamma \\Delta x_2$\n",
    "\n",
    "$\\alpha * ((\\Delta x_1)^2 + \\gamma (\\Delta x_2)^2) = - x_1 \\Delta x_1 + \\Delta x_1 - \\gamma x_2 \\Delta x_2 + \\gamma \\Delta x_2$\n",
    "\n",
    "To get the value of $\\alpha$, we simply solve this equation!\n",
    "\n",
    "$\\alpha = \\frac{- x_1 \\Delta x_1 + \\Delta x_1 - \\gamma x_2 \\Delta x_2 + \\gamma \\Delta x_2}{(\\Delta x_1)^2 + \\gamma (\\Delta x_2)^2}$"
   ]
  },
  {
   "cell_type": "code",
   "execution_count": 17,
   "metadata": {},
   "outputs": [],
   "source": [
    "def f1(x: np.ndarray, gamma = 10):\n",
    "    x1_squared = x[0, 0] ** 2\n",
    "    x2_squared = x[1, 0] ** 2\n",
    "    \n",
    "    return 0.5 * (x1_squared + (gamma * x2_squared))\n",
    "\n",
    "def f1_gradient(x: np.ndarray, gamma = 10):\n",
    "    gradient_vector = np.zeros(shape = x.shape)\n",
    "    gradient_vector[0, 0] = x[0, 0]\n",
    "    gradient_vector[1, 0] = gamma * x[1,0]\n",
    "    return gradient_vector\n",
    "\n",
    "\n",
    "def f1_exact_line_search(x: np.ndarray, delta_x: np.ndarray, gamma = 10):\n",
    "    x1 = x[0, 0]\n",
    "    x2 = x[1, 0]\n",
    "    \n",
    "    delta_x1 = delta_x[0, 0]\n",
    "    delta_x2 = delta_x[1, 0]\n",
    "    \n",
    "    numerator = (-1 * x1 * delta_x1) + delta_x1 + (-1 * gamma * x2 * delta_x2) + (gamma * delta_x2)\n",
    "    denominator = (delta_x1 ** 2) + (gamma * (delta_x2 ** 2))\n",
    "    "
   ]
  },
  {
   "cell_type": "code",
   "execution_count": 18,
   "metadata": {},
   "outputs": [
    {
     "name": "stdout",
     "output_type": "stream",
     "text": [
      "Initial Function Value: 0.5\n",
      "Updated Function Value: 0.125\n",
      "Updated Function Value: 0.03125\n",
      "Updated Function Value: 0.0078125\n",
      "Updated Function Value: 0.001953125\n",
      "Updated Function Value: 0.00048828125\n",
      "Updated Function Value: 0.0001220703125\n",
      "Updated Function Value: 3.0517578125e-05\n"
     ]
    },
    {
     "data": {
      "text/plain": [
       "(array([[[1.       ],\n",
       "         [0.       ]],\n",
       " \n",
       "        [[0.5      ],\n",
       "         [0.       ]],\n",
       " \n",
       "        [[0.25     ],\n",
       "         [0.       ]],\n",
       " \n",
       "        [[0.125    ],\n",
       "         [0.       ]],\n",
       " \n",
       "        [[0.0625   ],\n",
       "         [0.       ]],\n",
       " \n",
       "        [[0.03125  ],\n",
       "         [0.       ]],\n",
       " \n",
       "        [[0.015625 ],\n",
       "         [0.       ]],\n",
       " \n",
       "        [[0.0078125],\n",
       "         [0.       ]]]),\n",
       " array([5.00000000e-01, 1.25000000e-01, 3.12500000e-02, 7.81250000e-03,\n",
       "        1.95312500e-03, 4.88281250e-04, 1.22070312e-04]))"
      ]
     },
     "execution_count": 18,
     "metadata": {},
     "output_type": "execute_result"
    }
   ],
   "source": [
    "x0 = np.array([[1], [0]])"
   ]
  }
 ],
 "metadata": {
  "kernelspec": {
   "display_name": "base",
   "language": "python",
   "name": "python3"
  },
  "language_info": {
   "codemirror_mode": {
    "name": "ipython",
    "version": 3
   },
   "file_extension": ".py",
   "mimetype": "text/x-python",
   "name": "python",
   "nbconvert_exporter": "python",
   "pygments_lexer": "ipython3",
   "version": "3.9.12"
  }
 },
 "nbformat": 4,
 "nbformat_minor": 2
}
