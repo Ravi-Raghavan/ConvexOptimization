{
 "cells": [
  {
   "cell_type": "code",
   "execution_count": 62,
   "metadata": {},
   "outputs": [],
   "source": [
    "#Import libraries\n",
    "import numpy as np\n",
    "import matplotlib.pyplot as plt\n",
    "import scipy.optimize as optimize"
   ]
  },
  {
   "cell_type": "code",
   "execution_count": 63,
   "id": "9dcd114d",
   "metadata": {},
   "outputs": [],
   "source": [
    "#A: Matrix such that each row of A is ai\n",
    "#x: x\n",
    "#This function, given A and x, check to see if x is within the domain of f\n",
    "#returns True if x is in the domain of f \n",
    "#returns False is x is NOT in the domain of f\n",
    "def domain_check(x: np.ndarray, A: np.ndarray):\n",
    "    x = x.reshape((-1, 1))\n",
    "    B = A @ x\n",
    "    max_B = np.max(B)\n",
    "    max_x = np.max(np.abs(x))\n",
    "    return max_B < 1 and max_x < 1\n",
    "\n",
    "#A: Matrix such that each row of A is ai\n",
    "#x: x\n",
    "#Compute the value of the function at x, given A. \n",
    "#If x is not in the domain of f, infinity is returned\n",
    "def f(x: np.ndarray, A: np.ndarray):\n",
    "    x = x.reshape((-1, 1))\n",
    "    if not domain_check(x, A):\n",
    "        return np.inf\n",
    "    B = A @ x\n",
    "    \n",
    "    log_comp_B = np.log(1 - B)\n",
    "    log_plus_x = np.log(1 + x)\n",
    "    log_minus_x = np.log(1 - x)\n",
    "    \n",
    "    return (-1 * np.sum(log_comp_B)) - np.sum(log_plus_x) - np.sum(log_minus_x)\n",
    "\n",
    "#A: Matrix such that each row of A is ai\n",
    "#x: x\n",
    "#Compute the value of the gradient of function at x, given A. \n",
    "#If x is not in the domain of f, infinity is returned\n",
    "def f_gradient(x: np.ndarray, A: np.ndarray):\n",
    "    x = x.reshape((-1, 1))\n",
    "    if not domain_check(x, A):\n",
    "        return np.inf\n",
    "    \n",
    "    B = A @ x    \n",
    "    gradient_vector = (A.T @ (1 / (1 - B))) + (1 / (1 - x)) - (1 / (1 + x))    \n",
    "    return gradient_vector \n",
    "\n",
    "#A: Matrix such that each row of A is ai\n",
    "#x: x\n",
    "#Compute the value of the Hessian of function at x, given A. \n",
    "#If x is not in the domain of f, infinity is returned\n",
    "def f_hessian(x: np.ndarray, A: np.ndarray):\n",
    "    x = x.reshape((-1, 1))\n",
    "    if not domain_check(A, x):\n",
    "        return np.inf\n",
    "    \n",
    "    B = A @ x\n",
    "    C = 1 / (1 - B)\n",
    "    C_squared = C ** 2\n",
    "    C_squared = C_squared.flatten()\n",
    "    \n",
    "    plus_x_squared = 1 / ((1 + x) ** 2)\n",
    "    minus_x_squared = 1 / ((1 - x) ** 2)\n",
    "    combined = plus_x_squared + minus_x_squared\n",
    "    combined = combined.flatten()\n",
    "    \n",
    "    H = (A.T @ np.diag(C_squared) @ A) + np.diag(combined)    \n",
    "    return H\n"
   ]
  },
  {
   "cell_type": "code",
   "execution_count": 64,
   "id": "766dd546",
   "metadata": {},
   "outputs": [],
   "source": [
    "#Global Variables\n",
    "n = 100\n",
    "m = 200\n",
    "alpha = 0.01\n",
    "beta = 0.1\n",
    "eta = 1e-3\n",
    "max_iter = 2000\n",
    "\n",
    "x0 = np.zeros(shape = (n, 1)) #initial point will always start at 0 for all experiments\n",
    "\n",
    "#randomly generate A from normal distribution\n",
    "np.random.seed(0)\n",
    "A = np.random.normal(loc = 0, scale = 1, size = (m, n))"
   ]
  },
  {
   "cell_type": "code",
   "execution_count": 65,
   "id": "37086b3d",
   "metadata": {},
   "outputs": [
    {
     "name": "stdout",
     "output_type": "stream",
     "text": [
      "Minimized x: [-1.11051157]\n",
      "Minimum value of f(x): [-3.24639427]\n",
      "Step sizes per iteration: [0.11301295606989159, 0.0025013837578198306]\n"
     ]
    }
   ],
   "source": [
    "import numpy as np\n",
    "import scipy.optimize as optimize\n",
    "\n",
    "# Define the function you want to minimize\n",
    "def f(x):\n",
    "    return x**2 + 5*np.sin(x)\n",
    "\n",
    "# Define the gradient of the function\n",
    "def grad_f(x):\n",
    "    return 2*x + 5*np.cos(x)\n",
    "\n",
    "# Define the Hessian of the function\n",
    "def hess_f(x):\n",
    "    return 2 - 5*np.sin(x)\n",
    "\n",
    "# Initialize lists to store parameter values and step sizes\n",
    "parameter_values = []\n",
    "step_sizes = []\n",
    "\n",
    "# Callback function to store parameter values and step sizes\n",
    "def callback(x):\n",
    "    parameter_values.append(x.copy())\n",
    "\n",
    "# Initial guess\n",
    "initial_guess = 0.0\n",
    "\n",
    "# Use scipy's minimize function with Newton-CG method\n",
    "result = optimize.minimize(f, initial_guess, jac=grad_f, hess=hess_f, method='trust-ncg', callback=callback)\n",
    "\n",
    "# Extract the minimized value of x\n",
    "minimized_x = result.x\n",
    "\n",
    "# Compute step sizes\n",
    "for i in range(1, len(parameter_values)):\n",
    "    step_size = np.linalg.norm(parameter_values[i] - parameter_values[i - 1])\n",
    "    step_sizes.append(step_size)\n",
    "\n",
    "print(\"Minimized x:\", minimized_x)\n",
    "print(\"Minimum value of f(x):\", f(minimized_x))\n",
    "print(\"Step sizes per iteration:\", step_sizes)\n"
   ]
  },
  {
   "cell_type": "code",
   "execution_count": 66,
   "id": "0cc02f3f",
   "metadata": {},
   "outputs": [
    {
     "data": {
      "text/plain": [
       "array([[ 1],\n",
       "       [ 4],\n",
       "       [ 9],\n",
       "       [16],\n",
       "       [25]])"
      ]
     },
     "execution_count": 66,
     "metadata": {},
     "output_type": "execute_result"
    }
   ],
   "source": [
    "y = np.array([[1], [2], [3], [4], [5]])\n",
    "\n",
    "y ** 2"
   ]
  },
  {
   "cell_type": "code",
   "execution_count": 67,
   "id": "e65ae54e",
   "metadata": {},
   "outputs": [],
   "source": [
    "#Global Variables\n",
    "import scipy.io as sio\n",
    "\n",
    "n = 100\n",
    "m = 200\n",
    "alpha = 0.01\n",
    "beta = 0.1\n",
    "eta = 1e-3\n",
    "max_iter = 2000\n",
    "\n",
    "x0 = np.zeros(shape = (n, 1)) #initial point will always start at 0 for all experiments\n",
    "\n",
    "#randomly generate A from normal distribution\n",
    "np.random.seed(0)\n",
    "A = np.random.normal(loc = 0, scale = 1, size = (m, n))\n",
    "# Save the NumPy array to a MATLAB .mat file\n",
    "sio.savemat('numpy_array.mat', {'numpy_array': A})\n"
   ]
  }
 ],
 "metadata": {
  "kernelspec": {
   "display_name": "base",
   "language": "python",
   "name": "python3"
  },
  "language_info": {
   "codemirror_mode": {
    "name": "ipython",
    "version": 3
   },
   "file_extension": ".py",
   "mimetype": "text/x-python",
   "name": "python",
   "nbconvert_exporter": "python",
   "pygments_lexer": "ipython3",
   "version": "3.11.5"
  }
 },
 "nbformat": 4,
 "nbformat_minor": 5
}
